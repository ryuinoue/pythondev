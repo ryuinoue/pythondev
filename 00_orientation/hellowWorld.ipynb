{
 "cells": [
  {
   "cell_type": "code",
   "execution_count": null,
   "id": "86846969",
   "metadata": {},
   "outputs": [
    {
     "name": "stdout",
     "output_type": "stream",
     "text": [
      "Hello! World!\n"
     ]
    }
   ],
   "source": [
    "print(\"Hello! World!\")\n",
    "print(\"こんにちわ！世界\")\n"
   ]
  },
  {
   "cell_type": "markdown",
   "id": "82004faf",
   "metadata": {},
   "source": [
    "# レッスン0\n",
    "-　VS Codeの基本的な書き方\n",
    "\n",
    "---\n",
    "\n",
    "| 見出し1 | 見出し2 |\n",
    "| ------- | ------- |\n",
    "| データ1 | データ2 |\n",
    "| データ3 | データ4 |\n",
    "\n",
    "1. 項目1\n",
    "2. 項目2\n",
    "3. 項目3\n"
   ]
  }
 ],
 "metadata": {
  "kernelspec": {
   "display_name": ".venv",
   "language": "python",
   "name": "python3"
  },
  "language_info": {
   "codemirror_mode": {
    "name": "ipython",
    "version": 3
   },
   "file_extension": ".py",
   "mimetype": "text/x-python",
   "name": "python",
   "nbconvert_exporter": "python",
   "pygments_lexer": "ipython3",
   "version": "3.12.10"
  }
 },
 "nbformat": 4,
 "nbformat_minor": 5
}
