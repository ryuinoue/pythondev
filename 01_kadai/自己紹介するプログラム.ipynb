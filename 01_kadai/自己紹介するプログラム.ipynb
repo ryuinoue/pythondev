{
 "cells": [
  {
   "cell_type": "code",
   "execution_count": 10,
   "id": "2230e682",
   "metadata": {},
   "outputs": [
    {
     "name": "stdout",
     "output_type": "stream",
     "text": [
      "私の名前は Ryujiです。来年で 55歳になります。\n"
     ]
    }
   ],
   "source": [
    "def calc_age(a):\n",
    "    ret = a+1\n",
    "    return ret\n",
    "def outMess(name,age):\n",
    "    ret = \"私の名前は \" + name + \"です。来年で \" + str(age) + \"歳になります。\"\n",
    "    return ret\n",
    "name = input(\"名前を入力してください：\")\n",
    "age = int(input(\"現在の年齢を入力してください：\"))\n",
    "print(outMess(name,calc_age(age)))"
   ]
  }
 ],
 "metadata": {
  "kernelspec": {
   "display_name": ".venv",
   "language": "python",
   "name": "python3"
  },
  "language_info": {
   "codemirror_mode": {
    "name": "ipython",
    "version": 3
   },
   "file_extension": ".py",
   "mimetype": "text/x-python",
   "name": "python",
   "nbconvert_exporter": "python",
   "pygments_lexer": "ipython3",
   "version": "3.12.10"
  }
 },
 "nbformat": 4,
 "nbformat_minor": 5
}
