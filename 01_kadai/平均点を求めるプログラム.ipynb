{
 "cells": [
  {
   "cell_type": "code",
   "execution_count": null,
   "id": "5af7c6e9",
   "metadata": {},
   "outputs": [
    {
     "name": "stdout",
     "output_type": "stream",
     "text": [
      "点数を入力してください：100\n",
      "点数を入力してください：80\n",
      "点数を入力してください：90\n",
      "点数を入力してください：-1\n",
      "90.0\n",
      "3人のテストの平均点は90.00点です\n"
     ]
    }
   ],
   "source": [
    "tens = 0\n",
    "sum = 0\n",
    "c = 0\n",
    "\n",
    "while True:\n",
    "\n",
    "   tens=int(input(\"点数を入力してください：\"))\n",
    "   print(f\"点数を入力してください：{tens:.0f}\")\n",
    "\n",
    "   if tens == -1:\n",
    "\n",
    "    #print(f\"5人のテストの平均点は{c:.0f}人合計:{sum:.0f}\")\n",
    "    print(f\"{c:.0f}人のテストの平均点は{calc(sum,c):.1f}点です\")\n",
    "    \n",
    "    break\n",
    "\n",
    "   else:\n",
    "\n",
    "    sum += tens\n",
    "    c += 1\n",
    "    pass"
   ]
  },
  {
   "cell_type": "code",
   "execution_count": 34,
   "id": "9cc6ce0d",
   "metadata": {},
   "outputs": [],
   "source": [
    "def calc(s,n):\n",
    "    #print(round(float(s/n), 2))\n",
    "    return round(float(s/n), 2)"
   ]
  }
 ],
 "metadata": {
  "kernelspec": {
   "display_name": ".venv",
   "language": "python",
   "name": "python3"
  },
  "language_info": {
   "codemirror_mode": {
    "name": "ipython",
    "version": 3
   },
   "file_extension": ".py",
   "mimetype": "text/x-python",
   "name": "python",
   "nbconvert_exporter": "python",
   "pygments_lexer": "ipython3",
   "version": "3.12.10"
  }
 },
 "nbformat": 4,
 "nbformat_minor": 5
}
