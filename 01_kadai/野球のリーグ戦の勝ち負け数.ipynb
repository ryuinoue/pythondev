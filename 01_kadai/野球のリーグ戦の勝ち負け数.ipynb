{
 "cells": [
  {
   "cell_type": "markdown",
   "id": "81c2e02f",
   "metadata": {},
   "source": [
    "概要\n",
    "以下の表は、架空の野球のリーグ戦における勝敗表です。\n",
    "\n",
    "チーム名\t勝利\t敗北\t引分\n",
    "Archers\t    77\t    64\t2\n",
    "Meteors\t    71\t    69\t3\n",
    "Cheetahs\t69\t    68\t6\n",
    "Sharks\t    70\t    70\t3\n",
    "Pythons\t    68\t    73\t2\n",
    "Owls\t    59\t    82\t2\n",
    "\n",
    "勝ち負け数を管理するためのクラスを作成して、\n",
    "インスタンスを6チーム分生成した後に、\n",
    "各チームの勝ち負け数を表示するプログラムを作成してください。"
   ]
  },
  {
   "cell_type": "code",
   "execution_count": null,
   "id": "a805723e",
   "metadata": {},
   "outputs": [],
   "source": [
    "class Baseball_Team:\n",
    "    \n",
    "     # constructor\n",
    "    def __init__(self, name,win,lose,draw):\n",
    "        self.set_name(name)\n",
    "        self.set_win(win)\n",
    "        self.set_lose(lose)\n",
    "        self.set_draw(draw)\n",
    "\n",
    "    # セッター\n",
    "    def set_name(self,name):\n",
    "        self.__name = name\n",
    "\n",
    "    def set_win(self,win):\n",
    "        self.__win = win\n",
    "\n",
    "    def set_lose(self,lose):\n",
    "        self.__lose = lose\n",
    "\n",
    "    def set_draw(self,draw):\n",
    "        self.__draw = draw\n",
    "\n",
    "    # ゲッター\n",
    "    def get_name(self):\n",
    "        return self.__name\n",
    "\n",
    "    def get_win(self):\n",
    "        return self.__win\n",
    "\n",
    "    def get_lose(self):\n",
    "        return self.__lose\n",
    "\n",
    "    def get_draw(self):\n",
    "        return self.__draw\n",
    "\n",
    "    # method(勝率を算出)\n",
    "    def calc_win_rate(self):\n",
    "        if self.__win + self.__lose == 0:\n",
    "            return 0.0\n",
    "        else:\n",
    "            return self.__win / (self.__win + self.__lose)\n",
    "    \n",
    "    # method(勝敗情報を表示)\n",
    "    def show_team_result(self):\n",
    "        print(f\"{self.get_name():<8}{self.get_win():>5}{self.get_lose():>5}{self.get_draw():>6}{self.calc_win_rate():>7.3f}\")\n"
   ]
  },
  {
   "cell_type": "code",
   "execution_count": null,
   "id": "e4dd9fcc",
   "metadata": {},
   "outputs": [
    {
     "name": "stdout",
     "output_type": "stream",
     "text": [
      "team      win lose draw   rate\n",
      "Archers    77   64    2  0.546\n",
      "Meteors    71   69    3  0.507\n",
      "Cheetahs   69   68    6  0.504\n",
      "Sharks     70   70    3  0.500\n",
      "Pythons    68   73    2  0.482\n",
      "Owls       59   82    2  0.418\n"
     ]
    }
   ],
   "source": [
    "# memo\n",
    "#Archers = Baseball_Team(\"Archers\",77,64,2)\n",
    "#Archers.show_team_result()\n",
    "\n",
    "# Archers = Baseball_Team(\"Archers\",77,64,2)\n",
    "# Meteors = Baseball_Team(\"Meteors\",71,69,3)\n",
    "# Cheetahs = Baseball_Team(\"Cheetahs\",69,69,6)\n",
    "# Sharks = Baseball_Team(\"Sharks\",70,70,3)\n",
    "# Pythons = Baseball_Team(\"Pythons\",68,73,2)\n",
    "# Owls = Baseball_Team(\"Owls\",59,82,2)\n",
    "\n",
    "# Archers.show_team_result()\n",
    "# Meteors.show_team_result()\n",
    "# Cheetahs.show_team_result()\n",
    "# Sharks.show_team_result()\n",
    "# Pythons.show_team_result()\n",
    "# Owls.show_team_result()\n",
    "\n",
    "# ヘッダーを出力\n",
    "print(f\"{'team':<8}{'win':>5}{'lose':>5}{'draw':>6}{'rate':>7}\")\n",
    "\n",
    "teams = [\n",
    "    Baseball_Team(\"Archers\",77,64,2),\n",
    "    Baseball_Team(\"Meteors\",71,69,3),\n",
    "    Baseball_Team(\"Cheetahs\",69,68,6),\n",
    "    Baseball_Team(\"Sharks\",70,70,3),\n",
    "    Baseball_Team(\"Pythons\",68,73,2),\n",
    "    Baseball_Team(\"Owls\",59,82,2)\n",
    "]\n",
    "\n",
    "for t in teams:\n",
    "    t.show_team_result()\n",
    "\n",
    "\n"
   ]
  },
  {
   "cell_type": "markdown",
   "id": "3b8e43b8",
   "metadata": {},
   "source": [
    "\n"
   ]
  }
 ],
 "metadata": {
  "kernelspec": {
   "display_name": "Python 3",
   "language": "python",
   "name": "python3"
  },
  "language_info": {
   "codemirror_mode": {
    "name": "ipython",
    "version": 3
   },
   "file_extension": ".py",
   "mimetype": "text/x-python",
   "name": "python",
   "nbconvert_exporter": "python",
   "pygments_lexer": "ipython3",
   "version": "3.12.10"
  }
 },
 "nbformat": 4,
 "nbformat_minor": 5
}
