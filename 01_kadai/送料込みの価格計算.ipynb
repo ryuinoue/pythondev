{
 "cells": [
  {
   "cell_type": "code",
   "execution_count": 2,
   "id": "bfaa7d63",
   "metadata": {},
   "outputs": [],
   "source": [
    "def pst(p):\n",
    "    return int(p)+350"
   ]
  },
  {
   "cell_type": "code",
   "execution_count": 3,
   "id": "a75c031a",
   "metadata": {},
   "outputs": [],
   "source": [
    "def jdge(val):\n",
    "    tax_val = tax(val)\n",
    "    if int(val) < 2000:\n",
    "        return f\"送料として350円かかります\\n送料込みの価格は{pst(tax_val):.0f}円です。\"\n",
    "    else:\n",
    "        return f\"送料は無料です\\n送料込みの価格は{tax_val:.0f}円です。\""
   ]
  },
  {
   "cell_type": "code",
   "execution_count": 4,
   "id": "4629bfe5",
   "metadata": {},
   "outputs": [],
   "source": [
    "def tax(p):\n",
    "    ret = (int(p) * 10 /100)+int(p)\n",
    "    return ret\n"
   ]
  },
  {
   "cell_type": "code",
   "execution_count": 5,
   "id": "191ec071",
   "metadata": {},
   "outputs": [
    {
     "name": "stdout",
     "output_type": "stream",
     "text": [
      "送料として350円かかります\n",
      "送料込みの価格は460円です。\n"
     ]
    }
   ],
   "source": [
    "price=input(\"税抜価格を入力してください：\")\n",
    "#print(f\"税抜き価格{price}円\")\n",
    "print(jdge(price))"
   ]
  }
 ],
 "metadata": {
  "kernelspec": {
   "display_name": "Python 3",
   "language": "python",
   "name": "python3"
  },
  "language_info": {
   "codemirror_mode": {
    "name": "ipython",
    "version": 3
   },
   "file_extension": ".py",
   "mimetype": "text/x-python",
   "name": "python",
   "nbconvert_exporter": "python",
   "pygments_lexer": "ipython3",
   "version": "3.12.10"
  }
 },
 "nbformat": 4,
 "nbformat_minor": 5
}
