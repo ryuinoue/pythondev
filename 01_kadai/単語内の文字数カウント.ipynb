{
 "cells": [
  {
   "cell_type": "markdown",
   "id": "64ec130e",
   "metadata": {},
   "source": [
    "仕様\n",
    "最初に英単語を格納するための空のリストを作成してください\n",
    "\n",
    "次に、以下のように、キーがアルファベット小文字の各文字で、値が0の辞書を作成してください：\n",
    "\n",
    "'a':0, 'b':0, 'c':0, 'd':0, 'e':0, 'f':0, 'g':0, 'h':0, 'i':0, 'j':0, 'k':0, 'l':0, 'm':0, 'n':0, 'o':0, 'p':0, 'q':0, 'r':0, 's':0, 't':0, 'u':0, 'v':0, 'w':0, 'x':0, 'y':0, 'z':0\n",
    "\n",
    "そのあと、キーボードから英単語の入力を受けつけます：\n",
    "\n",
    "未入力でリターン（エンター）キーを押されるまで、英単語の入力の受け付けを繰り返してください\n",
    "\n",
    "入力された英単語を構成する文字を1文字ずつ確認して、登場した数を加算してください\n",
    "\n",
    "入力された英単語は都度リストに格納してください\n",
    "\n",
    "最後に以下の内容を一覧表示してください：\n",
    "\n",
    "入力された英単語のリストを一覧表示してください\n",
    "\n",
    "その際、ABC順に並べ替えてから表示するようにしてください\n",
    "\n",
    "辞書を使って加算した値のうち、1文字以上あったすべての文字について「○が△個ありました」を表示してください\n",
    "\n"
   ]
  },
  {
   "cell_type": "code",
   "execution_count": null,
   "id": "25628d2d",
   "metadata": {},
   "outputs": [
    {
     "name": "stdout",
     "output_type": "stream",
     "text": [
      "英単語を入力してください：bear\n",
      "英単語を入力してください：cat\n",
      "英単語を入力してください：dog\n",
      "英単語を入力してください：\n",
      "入力した英単語： ['bear', 'cat', 'dog']\n",
      "zが0ありました\n"
     ]
    }
   ],
   "source": [
    "# 辞書作成\n",
    "char_count = dict.fromkeys(list(\"abcdefghijklmnopqrstuvwxyz\"), 0)\n",
    "\n",
    "#　　辞書出力（デバック用）\n",
    "#print(char_count) \n",
    "\n",
    "#英単語を格納するための空のリスト作成\n",
    "user_inputs=[]\n",
    "\n",
    "while True:\n",
    "    user_input = input(\"英単語を入力してください：\")\n",
    "\n",
    "    user_inputs.append(user_input)\n",
    "\n",
    "    #入力値確認用出力\n",
    "    print(\"英単語を入力してください：\" + user_input)\n",
    "\n",
    "    if not user_input:\n",
    "        break\n",
    "\n",
    "#入力した英単語のリストの内容（デバック用）\n",
    "#print (\"入力した英単語:\", user_inputs[:-1])\n",
    "#print (\"入力した英単語:\", user_inputs[1:])\n",
    "\n",
    "#配列並び変え、空白削除\n",
    "user_inputs.sort()\n",
    "user_inputs.remove(\"\")\n",
    "print (\"入力した英単語：\", user_inputs)\n",
    "\n",
    "#キーでループ\n",
    "for code in char_count.keys():\n",
    "        #print(code)\n",
    "\n",
    "#       入力値でループ\n",
    "        for user_input in user_inputs:\n",
    "        #    print(user_input)\n",
    "\n",
    "#        キーを検索,カウント,集計\n",
    "            char_count[code]+=+user_input.count(code)\n",
    "\n",
    "#\n",
    "#メンターに確認する。ループ、Ifのスコープについて\n",
    "#print(f\"{code}が{char_count[code]}ありました\")\n",
    "\n",
    "#画面出力\n",
    "for key, value in char_count.items():\n",
    "    if value > 0:\n",
    "        print(f\"{key}が{value}ありました\")\n"
   ]
  },
  {
   "cell_type": "markdown",
   "id": "36c19d61",
   "metadata": {},
   "source": []
  }
 ],
 "metadata": {
  "kernelspec": {
   "display_name": "Python 3",
   "language": "python",
   "name": "python3"
  },
  "language_info": {
   "codemirror_mode": {
    "name": "ipython",
    "version": 3
   },
   "file_extension": ".py",
   "mimetype": "text/x-python",
   "name": "python",
   "nbconvert_exporter": "python",
   "pygments_lexer": "ipython3",
   "version": "3.12.10"
  }
 },
 "nbformat": 4,
 "nbformat_minor": 5
}
