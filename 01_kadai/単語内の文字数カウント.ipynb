{
 "cells": [
  {
   "cell_type": "code",
   "execution_count": 19,
   "id": "25628d2d",
   "metadata": {},
   "outputs": [
    {
     "name": "stdout",
     "output_type": "stream",
     "text": [
      "英単語を入力してください：dog\n",
      "英単語を入力してください：cat\n",
      "英単語を入力してください：giraffe\n",
      "英単語を入力してください：horse\n",
      "英単語を入力してください：kangaroo\n",
      "英単語を入力してください：bear\n",
      "英単語を入力してください：\n",
      "入力した英単語： ['bear', 'cat', 'dog', 'giraffe', 'horse', 'kangaroo']\n",
      "aが5ありました\n",
      "bが1ありました\n",
      "cが1ありました\n",
      "dが1ありました\n",
      "eが3ありました\n",
      "fが2ありました\n",
      "gが3ありました\n",
      "hが1ありました\n",
      "iが1ありました\n",
      "kが1ありました\n",
      "nが1ありました\n",
      "oが4ありました\n",
      "rが4ありました\n",
      "sが1ありました\n",
      "tが1ありました\n"
     ]
    }
   ],
   "source": [
    "# 辞書作成\n",
    "char_count = dict.fromkeys(list(\"abcdefghijklmnopqrstuvwxyz\"), 0)\n",
    "\n",
    "#　　辞書出力（デバック用）\n",
    "#print(char_count) \n",
    "\n",
    "#英単語を格納するための空のリスト作成\n",
    "user_inputs=[]\n",
    "\n",
    "while True:\n",
    "    user_input = input(\"英単語を入力してください：\")\n",
    "\n",
    "    user_inputs.append(user_input)\n",
    "\n",
    "    #入力値確認用出力\n",
    "    print(\"英単語を入力してください：\" + user_input)\n",
    "\n",
    "    if not user_input:\n",
    "        break\n",
    "\n",
    "#入力した英単語のリストの内容（デバック用）\n",
    "#print (\"入力した英単語:\", user_inputs[:-1])\n",
    "#print (\"入力した英単語:\", user_inputs[1:])\n",
    "\n",
    "#配列並び変え、空白削除\n",
    "user_inputs.sort()\n",
    "user_inputs.remove(\"\")\n",
    "print (\"入力した英単語：\", user_inputs)\n",
    "\n",
    "#キーでループ\n",
    "for code in char_count.keys():\n",
    "        #print(code)\n",
    "\n",
    "#       入力値でループ\n",
    "        for user_input in user_inputs:\n",
    "        #    print(user_input)\n",
    "\n",
    "#        キーを検索,カウント,集計\n",
    "            char_count[code]+=+user_input.count(code)\n",
    "\n",
    "#\n",
    "#メンターに確認する。ループ、Ifのスコープについて\n",
    "#print(f\"{code}が{char_count[code]}ありました\")\n",
    "\n",
    "#画面出力\n",
    "for key, value in char_count.items():\n",
    "    if value > 0:\n",
    "        print(f\"{key}が{value}ありました\")\n"
   ]
  },
  {
   "cell_type": "markdown",
   "id": "bbcba0ed",
   "metadata": {},
   "source": [
    "#キーでループ\n",
    "for code in char_count.keys():\n",
    "        #print(code)\n",
    "\n",
    "#       入力値でループ\n",
    "        for user_input in user_inputs:\n",
    "        #    print(user_input)\n",
    "\n",
    "#        キーを検索,カウント,集計\n",
    "            char_count[code]+=+user_input.count(code)\n",
    "\n",
    "#\n",
    "#メンターに確認する。ループ、Ifのスコープについて\n",
    "print(f\"{code}が{char_count[code]}ありました\")\n",
    "\n",
    "※上記のようにすると出力が1回だけ（※）となる点を確認する\n",
    "\n",
    "英単語を入力してください：bear\n",
    "英単語を入力してください：cat\n",
    "英単語を入力してください：dog\n",
    "英単語を入力してください：\n",
    "入力した英単語： ['bear', 'cat', 'dog']\n",
    "zが0ありました　←※"
   ]
  },
  {
   "cell_type": "markdown",
   "id": "36c19d61",
   "metadata": {},
   "source": []
  }
 ],
 "metadata": {
  "kernelspec": {
   "display_name": "Python 3",
   "language": "python",
   "name": "python3"
  },
  "language_info": {
   "codemirror_mode": {
    "name": "ipython",
    "version": 3
   },
   "file_extension": ".py",
   "mimetype": "text/x-python",
   "name": "python",
   "nbconvert_exporter": "python",
   "pygments_lexer": "ipython3",
   "version": "3.12.10"
  }
 },
 "nbformat": 4,
 "nbformat_minor": 5
}
