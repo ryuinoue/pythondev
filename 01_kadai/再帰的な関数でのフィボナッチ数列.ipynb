{
 "cells": [
  {
   "cell_type": "code",
   "execution_count": 3,
   "id": "c42fe9fd",
   "metadata": {},
   "outputs": [
    {
     "ename": "AttributeError",
     "evalue": "module 'prognum' has no attribute 'fibonacci'",
     "output_type": "error",
     "traceback": [
      "\u001b[31m---------------------------------------------------------------------------\u001b[39m",
      "\u001b[31mAttributeError\u001b[39m                            Traceback (most recent call last)",
      "\u001b[36mCell\u001b[39m\u001b[36m \u001b[39m\u001b[32mIn[3]\u001b[39m\u001b[32m, line 5\u001b[39m\n\u001b[32m      1\u001b[39m \u001b[38;5;28;01mimport\u001b[39;00m\u001b[38;5;250m \u001b[39m\u001b[34;01mprognum\u001b[39;00m\n\u001b[32m      3\u001b[39m num = \u001b[38;5;28minput\u001b[39m(\u001b[33m\"\u001b[39m\u001b[33m何番目の数値を求めますか？\u001b[39m\u001b[33m\"\u001b[39m)\n\u001b[32m----> \u001b[39m\u001b[32m5\u001b[39m \u001b[38;5;28mprint\u001b[39m(\u001b[43mprognum\u001b[49m\u001b[43m.\u001b[49m\u001b[43mfibonacci\u001b[49m(\u001b[38;5;28mint\u001b[39m(num)))\n",
      "\u001b[31mAttributeError\u001b[39m: module 'prognum' has no attribute 'fibonacci'"
     ]
    }
   ],
   "source": [
    "import prognum\n",
    "\n",
    "num = input(\"何番目の数値を求めますか？\")\n",
    "\n",
    "print(prognum.fibonacci(int(num)))"
   ]
  }
 ],
 "metadata": {
  "kernelspec": {
   "display_name": "Python 3",
   "language": "python",
   "name": "python3"
  },
  "language_info": {
   "codemirror_mode": {
    "name": "ipython",
    "version": 3
   },
   "file_extension": ".py",
   "mimetype": "text/x-python",
   "name": "python",
   "nbconvert_exporter": "python",
   "pygments_lexer": "ipython3",
   "version": "3.12.10"
  }
 },
 "nbformat": 4,
 "nbformat_minor": 5
}
