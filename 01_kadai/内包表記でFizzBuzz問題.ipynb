{
 "cells": [
  {
   "cell_type": "markdown",
   "id": "98f6a562",
   "metadata": {},
   "source": [
    "リスト内包表記を用いること\n",
    "1から100までの連続する整数に対するFizzBuzz判定を行う\n",
    "判定ルール：\n",
    "3で割り切れる数のときは \"Fizz\"\n",
    "5で割り切れる数のときは \"Buzz\"\n",
    "3で割り切れて、なおかつ5で割り切れる数のときは \"FizzBuzz\"\n",
    "それ以外の数値の場合は、その数値を文字列に変換したデータ\n",
    "FizzBuzz判定の結果をリストとして生成し、print()関数で全件を出力すること"
   ]
  },
  {
   "cell_type": "code",
   "execution_count": 41,
   "id": "3f459137",
   "metadata": {},
   "outputs": [],
   "source": [
    "def FizzBuzz(i):\n",
    "    if i % 3 == 0 and i % 5 == 0:\n",
    "        return \"FizzBuzz\"\n",
    "    elif i % 3 == 0:\n",
    "        return  \"Fizz\"\n",
    "    elif i % 5 == 0:\n",
    "        return  \"Buzz\"\n",
    "    else:\n",
    "        return str(i)\n"
   ]
  },
  {
   "cell_type": "code",
   "execution_count": 42,
   "id": "db64201b",
   "metadata": {},
   "outputs": [
    {
     "name": "stdout",
     "output_type": "stream",
     "text": [
      "['1', '2', 'Fizz', '4', 'Buzz', 'Fizz', '7', '8', 'Fizz', 'Buzz', '11', 'Fizz', '13', '14', 'FizzBuzz', '16', '17', 'Fizz', '19', 'Buzz', 'Fizz', '22', '23', 'Fizz', 'Buzz', '26', 'Fizz', '28', '29', 'FizzBuzz', '31', '32', 'Fizz', '34', 'Buzz', 'Fizz', '37', '38', 'Fizz', 'Buzz', '41', 'Fizz', '43', '44', 'FizzBuzz', '46', '47', 'Fizz', '49', 'Buzz', 'Fizz', '52', '53', 'Fizz', 'Buzz', '56', 'Fizz', '58', '59', 'FizzBuzz', '61', '62', 'Fizz', '64', 'Buzz', 'Fizz', '67', '68', 'Fizz', 'Buzz', '71', 'Fizz', '73', '74', 'FizzBuzz', '76', '77', 'Fizz', '79', 'Buzz', 'Fizz', '82', '83', 'Fizz', 'Buzz', '86', 'Fizz', '88', '89', 'FizzBuzz', '91', '92', 'Fizz', '94', 'Buzz', 'Fizz', '97', '98', 'Fizz']\n"
     ]
    }
   ],
   "source": [
    "list_val =  [FizzBuzz(i) for i in range(1,100)]\n",
    "\n",
    "print(f\"{list_val}\")"
   ]
  },
  {
   "cell_type": "code",
   "execution_count": 43,
   "id": "afa694b2",
   "metadata": {},
   "outputs": [
    {
     "name": "stdout",
     "output_type": "stream",
     "text": [
      "['1', '2', 'Fizz', '4', 'Buzz', 'Fizz', '7', '8', 'Fizz', 'Buzz', '11', 'Fizz', '13', '14', 'FizzBuzz', '16', '17', 'Fizz', '19', 'Buzz', 'Fizz', '22', '23', 'Fizz', 'Buzz', '26', 'Fizz', '28', '29', 'FizzBuzz', '31', '32', 'Fizz', '34', 'Buzz', 'Fizz', '37', '38', 'Fizz', 'Buzz', '41', 'Fizz', '43', '44', 'FizzBuzz', '46', '47', 'Fizz', '49', 'Buzz', 'Fizz', '52', '53', 'Fizz', 'Buzz', '56', 'Fizz', '58', '59', 'FizzBuzz', '61', '62', 'Fizz', '64', 'Buzz', 'Fizz', '67', '68', 'Fizz', 'Buzz', '71', 'Fizz', '73', '74', 'FizzBuzz', '76', '77', 'Fizz', '79', 'Buzz', 'Fizz', '82', '83', 'Fizz', 'Buzz', '86', 'Fizz', '88', '89', 'FizzBuzz', '91', '92', 'Fizz', '94', 'Buzz', 'Fizz', '97', '98', 'Fizz']\n"
     ]
    }
   ],
   "source": [
    "list_val = [ \"FizzBuzz\" if i % 3 == 0 and i % 5 == 0  else \"Fizz\" if i % 3 == 0 else \"Buzz\" if i % 5 == 0 else str(i) for i in range(1,100)]\n",
    "\n",
    "print(f\"{list_val}\")"
   ]
  },
  {
   "cell_type": "code",
   "execution_count": null,
   "id": "17d14c25",
   "metadata": {},
   "outputs": [],
   "source": []
  }
 ],
 "metadata": {
  "kernelspec": {
   "display_name": "Python 3",
   "language": "python",
   "name": "python3"
  },
  "language_info": {
   "codemirror_mode": {
    "name": "ipython",
    "version": 3
   },
   "file_extension": ".py",
   "mimetype": "text/x-python",
   "name": "python",
   "nbconvert_exporter": "python",
   "pygments_lexer": "ipython3",
   "version": "3.12.10"
  }
 },
 "nbformat": 4,
 "nbformat_minor": 5
}
